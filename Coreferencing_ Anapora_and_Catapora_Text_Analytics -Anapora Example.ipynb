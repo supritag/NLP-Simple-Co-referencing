{
 "cells": [
  {
   "cell_type": "markdown",
   "metadata": {},
   "source": [
    "# Introduction"
   ]
  },
  {
   "cell_type": "markdown",
   "metadata": {},
   "source": [
    "### CO-REFERENCING\n",
    "#### When more parts of the text refer to the same entity, the multiple occurences are said to Co-reference each other"
   ]
  },
  {
   "cell_type": "markdown",
   "metadata": {},
   "source": [
    "#### Simple Co-referencing types are Anapora , Catapora, Split antecedents and Coreferring noun phrases\n",
    "\n",
    " "
   ]
  },
  {
   "cell_type": "markdown",
   "metadata": {},
   "source": [
    "### Anapora\n",
    "#### When pronouns/noun-phrases follow their antecedent (nouns/noun-phrases) the referencing is called Anapora\n",
    "#### E.g. ** Mathew ** is a brilliant student. ** He ** always comes first in class.\n",
    "##### Here ''He'  trails 'Mathew'"
   ]
  },
  {
   "cell_type": "markdown",
   "metadata": {},
   "source": [
    "### Catapora\n",
    "#### When pronouns/noun-phrases lead their antecedent (nouns/noun-phrases) the referencing is called Catapora\n",
    "#### E.g. If she does not study, Gloria will fail her tests.\n",
    "##### Here 'she'  leads 'Gloria'"
   ]
  },
  {
   "cell_type": "markdown",
   "metadata": {},
   "source": [
    "# Coreference resolution of a text"
   ]
  },
  {
   "cell_type": "markdown",
   "metadata": {},
   "source": [
    "### Here for any piece of text we will follow the following algorithm after choosing which resolution to do(this can also be done via a function though)\n",
    "####  Algorithm:\n",
    "####     1.POS-TAGGING\n",
    "####     2. Forming Chunks OF PRONOUNS , NOUN PHRASES, NOUNS using Names entity recognition and Regex\n",
    "####     3. Attaching Appropriate NOUN, NOUN-PHRASE TO PRONOUN first by Grammer of Singularity/Plurality and word distance\n"
   ]
  },
  {
   "cell_type": "code",
   "execution_count": 1,
   "metadata": {},
   "outputs": [],
   "source": [
    "#Imports\n",
    "import nltk\n",
    "from nltk import word_tokenize, sent_tokenize, pos_tag, ne_chunk\n",
    "import pandas as pd\n",
    "from nltk.tokenize import RegexpTokenizer\n",
    "import re\n",
    "# Global Variables\n",
    "noun_pronoun_np_list=[]\n",
    "ne_list=[]\n"
   ]
  },
  {
   "cell_type": "markdown",
   "metadata": {},
   "source": [
    "#### Choosing appropriate texts"
   ]
  },
  {
   "cell_type": "code",
   "execution_count": 14,
   "metadata": {},
   "outputs": [],
   "source": [
    "## Anapora sentences\n",
    "# txt=\"The music was so loud that it couldn't be enjoyed\"\n",
    "# txt=\"Our neighbors dislike the music. If they are angry, the cops will show up soon\"\n",
    "txt = \"Mathew  and his friends play together. He loves to play.\"\n",
    "##Catapora Senternces\n",
    "# txt=\"If they are angry about the music, the neighbors will call the cops\"\n",
    "# txt=\"If she does not study, Gloria will fail her tests\"\n",
    "##Additional sentence\n"
   ]
  },
  {
   "cell_type": "markdown",
   "metadata": {},
   "source": [
    "# Simple POS tagging"
   ]
  },
  {
   "cell_type": "code",
   "execution_count": 15,
   "metadata": {},
   "outputs": [
    {
     "data": {
      "text/plain": [
       "[('Mathew', 'NNP'),\n",
       " ('and', 'CC'),\n",
       " ('his', 'PRP$'),\n",
       " ('friends', 'NNS'),\n",
       " ('play', 'VBP'),\n",
       " ('together', 'RB'),\n",
       " ('He', 'PRP'),\n",
       " ('loves', 'VBZ'),\n",
       " ('to', 'TO'),\n",
       " ('play', 'VB')]"
      ]
     },
     "execution_count": 15,
     "metadata": {},
     "output_type": "execute_result"
    }
   ],
   "source": [
    "def preprocess_pos_func(txt):\n",
    "    tokenizer = RegexpTokenizer(r'(\\w+)')\n",
    "    words = tokenizer.tokenize(txt)\n",
    "    pos_txt= nltk.pos_tag(words) \n",
    "    return pos_txt\n",
    "preprocess_pos_func(txt)"
   ]
  },
  {
   "cell_type": "code",
   "execution_count": 16,
   "metadata": {},
   "outputs": [
    {
     "data": {
      "text/plain": [
       "['Mathew and his friends play together He']"
      ]
     },
     "execution_count": 16,
     "metadata": {},
     "output_type": "execute_result"
    }
   ],
   "source": [
    "def anapora_resolution(txt):\n",
    "    grammar = \"anapora: {<DT>?<PRP.>?<JJ.?>*<NNP?S?>+<.*>*<PRP>+}\" \n",
    "    cp = nltk.RegexpParser(grammar) \n",
    "    result = cp.parse(preprocess_pos_func(txt)) \n",
    "    chunkLIST=[]\n",
    "    for chunk in result:\n",
    "                if hasattr(chunk, 'label'):\n",
    "                            chunkLIST.append((' '.join(c[0] for c in chunk),' '.join(c[1] for c in chunk)))\n",
    "    #Adding the anapora sentence\n",
    "    a_df=pd.DataFrame(chunkLIST, columns=['ANAPORA', 'POS pattern'])\n",
    "    a_df_list=[]\n",
    "    for  index, row in a_df.iterrows():\n",
    "        a_df_list.append(row['ANAPORA']) \n",
    "    return  a_df_list\n",
    "anapora_resolution(txt)"
   ]
  },
  {
   "cell_type": "markdown",
   "metadata": {},
   "source": [
    "#### For given text anapora resolution is better fit since it adds a lot of noun, pronouns and noun-phrases"
   ]
  },
  {
   "cell_type": "code",
   "execution_count": 17,
   "metadata": {},
   "outputs": [
    {
     "data": {
      "text/plain": [
       "['his friends']"
      ]
     },
     "execution_count": 17,
     "metadata": {},
     "output_type": "execute_result"
    }
   ],
   "source": [
    "def catapora_resolution(txt):\n",
    "    grammar = \"catapora: {<PRP.?>+<.*>*<DT>?<PRP.>?<NNP?S?>+}\" \n",
    "    cp = nltk.RegexpParser(grammar) \n",
    "    result = cp.parse(preprocess_pos_func(txt)) \n",
    "    chunkLIST=[]\n",
    "    for chunk in result:\n",
    "                if hasattr(chunk, 'label'):\n",
    "                            chunkLIST.append((' '.join(c[0] for c in chunk),' '.join(c[1] for c in chunk)))\n",
    "    #Adding the catapora sentence\n",
    "    c_df=pd.DataFrame(chunkLIST, columns=['CATAPORA', 'POS pattern'])\n",
    "    c_df_list=[]\n",
    "    for  index, row in c_df.iterrows():\n",
    "        c_df_list.append(row['CATAPORA']) \n",
    "    return  c_df_list\n",
    "catapora_resolution(txt)"
   ]
  },
  {
   "cell_type": "markdown",
   "metadata": {},
   "source": [
    "#### for given text catapora returns a list with one string"
   ]
  },
  {
   "cell_type": "markdown",
   "metadata": {},
   "source": [
    "### Example of Results:\n",
    "\n",
    "##### txt=\"The music was so loud that it couldn't be enjoyed\"\n",
    "##### A=\"The music was so loud that it\"\n",
    "##### C= \"\"\n",
    "\n",
    "##### txt=\"Our neighbors dislike the music. If they are angry, the cops will show up soon\"\n",
    "##### A=\"Our neighbors dislike the music If they\"\n",
    "##### C= \"Our neighbors dislike the music If they are angry the cops\"\n",
    "\n",
    "##### txt=\"If she does not study, Gloria will fail her tests\"\n",
    "##### A=\"\"\n",
    "##### C= \"she does not study Gloria will fail her tests\"\n",
    "\n",
    "##### txt=\"If they are angry about the music, the neighbors will call the cops\"\n",
    "##### A=\"\"\n",
    "##### C= \"they are angry about the music the neighbors will call the cops\"\n",
    "\n"
   ]
  },
  {
   "cell_type": "markdown",
   "metadata": {},
   "source": [
    "# Calling POS tagging function"
   ]
  },
  {
   "cell_type": "markdown",
   "metadata": {},
   "source": [
    "# Pronoun chunking and  identification of singular/plural pronouns"
   ]
  },
  {
   "cell_type": "code",
   "execution_count": 18,
   "metadata": {},
   "outputs": [
    {
     "data": {
      "text/html": [
       "<div>\n",
       "<style scoped>\n",
       "    .dataframe tbody tr th:only-of-type {\n",
       "        vertical-align: middle;\n",
       "    }\n",
       "\n",
       "    .dataframe tbody tr th {\n",
       "        vertical-align: top;\n",
       "    }\n",
       "\n",
       "    .dataframe thead th {\n",
       "        text-align: right;\n",
       "    }\n",
       "</style>\n",
       "<table border=\"1\" class=\"dataframe\">\n",
       "  <thead>\n",
       "    <tr style=\"text-align: right;\">\n",
       "      <th></th>\n",
       "      <th>N_Pronoun_NP</th>\n",
       "      <th>POS pattern</th>\n",
       "      <th>Number</th>\n",
       "    </tr>\n",
       "  </thead>\n",
       "  <tbody>\n",
       "    <tr>\n",
       "      <td>0</td>\n",
       "      <td>He</td>\n",
       "      <td>PRP</td>\n",
       "      <td>Singular</td>\n",
       "    </tr>\n",
       "  </tbody>\n",
       "</table>\n",
       "</div>"
      ],
      "text/plain": [
       "  N_Pronoun_NP POS pattern    Number\n",
       "0           He         PRP  Singular"
      ]
     },
     "execution_count": 18,
     "metadata": {},
     "output_type": "execute_result"
    }
   ],
   "source": [
    "def pronoun_chunking(resolution_list):\n",
    "    for txt in resolution_list:\n",
    "        pos_txt=preprocess_pos_func(txt)\n",
    "        ##Regex for pronouns\n",
    "        grammar = \"PRP: {<PRP>+}\" \n",
    "        \n",
    "        cp = nltk.RegexpParser(grammar) \n",
    "        result = cp.parse(pos_txt) \n",
    "        chunkLIST=[]\n",
    "        for chunk in result:\n",
    "                    if hasattr(chunk, 'label'):\n",
    "                            #Is noun phrase singilar or plural\n",
    "                            np=' '.join(c[0] for c in chunk)\n",
    "                            if np.lower() in ['them','they']:\n",
    "                                np_val='Plural'\n",
    "                                chunkLIST.append((' '.join(c[0] for c in chunk),' '.join(c[1] for c in chunk), np_val))\n",
    "\n",
    "                            else:\n",
    "                                np_val='Singular'\n",
    "                                chunkLIST.append((' '.join(c[0] for c in chunk),' '.join(c[1] for c in chunk), np_val))\n",
    "        #Adding the pronoun to pronoun, noun-phrase list for co-referencing later\n",
    "                            noun_pronoun_np_list.append((' '.join(c[0] for c in chunk)))\n",
    "    p_df=pd.DataFrame(chunkLIST, columns=['N_Pronoun_NP', 'POS pattern', 'Number'])\n",
    "    return p_df\n",
    "\n",
    "p_df=pronoun_chunking(anapora_resolution(txt))\n",
    "p_df"
   ]
  },
  {
   "cell_type": "markdown",
   "metadata": {},
   "source": [
    "# Noun-Phrase chunking and identifying singular/plural"
   ]
  },
  {
   "cell_type": "code",
   "execution_count": 19,
   "metadata": {},
   "outputs": [
    {
     "data": {
      "text/html": [
       "<div>\n",
       "<style scoped>\n",
       "    .dataframe tbody tr th:only-of-type {\n",
       "        vertical-align: middle;\n",
       "    }\n",
       "\n",
       "    .dataframe tbody tr th {\n",
       "        vertical-align: top;\n",
       "    }\n",
       "\n",
       "    .dataframe thead th {\n",
       "        text-align: right;\n",
       "    }\n",
       "</style>\n",
       "<table border=\"1\" class=\"dataframe\">\n",
       "  <thead>\n",
       "    <tr style=\"text-align: right;\">\n",
       "      <th></th>\n",
       "      <th>N_Pronoun_NP</th>\n",
       "      <th>POS pattern</th>\n",
       "      <th>Number</th>\n",
       "    </tr>\n",
       "  </thead>\n",
       "  <tbody>\n",
       "    <tr>\n",
       "      <td>0</td>\n",
       "      <td>his friends</td>\n",
       "      <td>PRP$ NNS</td>\n",
       "      <td>Plural</td>\n",
       "    </tr>\n",
       "  </tbody>\n",
       "</table>\n",
       "</div>"
      ],
      "text/plain": [
       "  N_Pronoun_NP POS pattern  Number\n",
       "0  his friends    PRP$ NNS  Plural"
      ]
     },
     "execution_count": 19,
     "metadata": {},
     "output_type": "execute_result"
    }
   ],
   "source": [
    "def noun_phrase_chunking(resolution_list):\n",
    "    for txt in resolution_list:\n",
    "        pos_txt=preprocess_pos_func(txt)\n",
    "        ##Regex for chunking noun phrase as addition of optional possessive pronoun,optional determinant, optional adjective and atleast 1 noun\n",
    "        grammar = \"NP: {<PRP.>?<DT>?<JJ.?>*<NNS?>+}\" \n",
    "        cp = nltk.RegexpParser(grammar) \n",
    "        result = cp.parse(pos_txt) \n",
    "        chunkLIST=[]\n",
    "\n",
    "        for chunk in result:\n",
    "                    if hasattr(chunk, 'label'):\n",
    "                            #Is noun phrase singilar or plural\n",
    "                            np=' '.join(c[1] for c in chunk)\n",
    "                            if re.match(r\"(.*\\s)*(NNS|NNPS)$\",np):\n",
    "                                np_val='Plural'\n",
    "                            else:\n",
    "                                np_val='Singular'\n",
    "\n",
    "                            chunkLIST.append((' '.join(c[0] for c in chunk),' '.join(c[1] for c in chunk), np_val))\n",
    "\n",
    "                            noun_pronoun_np_list.append((' '.join(c[0] for c in chunk)))\n",
    "        np_df=pd.DataFrame(chunkLIST, columns=['N_Pronoun_NP', 'POS pattern', 'Number'])\n",
    "    return np_df\n",
    "np_df=noun_phrase_chunking(anapora_resolution(txt))\n",
    "np_df"
   ]
  },
  {
   "cell_type": "code",
   "execution_count": 20,
   "metadata": {},
   "outputs": [
    {
     "data": {
      "text/html": [
       "<div>\n",
       "<style scoped>\n",
       "    .dataframe tbody tr th:only-of-type {\n",
       "        vertical-align: middle;\n",
       "    }\n",
       "\n",
       "    .dataframe tbody tr th {\n",
       "        vertical-align: top;\n",
       "    }\n",
       "\n",
       "    .dataframe thead th {\n",
       "        text-align: right;\n",
       "    }\n",
       "</style>\n",
       "<table border=\"1\" class=\"dataframe\">\n",
       "  <thead>\n",
       "    <tr style=\"text-align: right;\">\n",
       "      <th></th>\n",
       "      <th>N_Pronoun_NP</th>\n",
       "      <th>POS pattern</th>\n",
       "      <th>Number</th>\n",
       "    </tr>\n",
       "  </thead>\n",
       "  <tbody>\n",
       "    <tr>\n",
       "      <td>0</td>\n",
       "      <td>He</td>\n",
       "      <td>PRP</td>\n",
       "      <td>Singular</td>\n",
       "    </tr>\n",
       "    <tr>\n",
       "      <td>0</td>\n",
       "      <td>his friends</td>\n",
       "      <td>PRP$ NNS</td>\n",
       "      <td>Plural</td>\n",
       "    </tr>\n",
       "  </tbody>\n",
       "</table>\n",
       "</div>"
      ],
      "text/plain": [
       "  N_Pronoun_NP POS pattern    Number\n",
       "0           He         PRP  Singular\n",
       "0  his friends    PRP$ NNS    Plural"
      ]
     },
     "execution_count": 20,
     "metadata": {},
     "output_type": "execute_result"
    }
   ],
   "source": [
    "p_np_df=p_df.append(np_df)\n",
    "p_np_df"
   ]
  },
  {
   "cell_type": "markdown",
   "metadata": {},
   "source": [
    "# Get entity names and singular plural:"
   ]
  },
  {
   "cell_type": "code",
   "execution_count": 21,
   "metadata": {},
   "outputs": [
    {
     "data": {
      "text/html": [
       "<div>\n",
       "<style scoped>\n",
       "    .dataframe tbody tr th:only-of-type {\n",
       "        vertical-align: middle;\n",
       "    }\n",
       "\n",
       "    .dataframe tbody tr th {\n",
       "        vertical-align: top;\n",
       "    }\n",
       "\n",
       "    .dataframe thead th {\n",
       "        text-align: right;\n",
       "    }\n",
       "</style>\n",
       "<table border=\"1\" class=\"dataframe\">\n",
       "  <thead>\n",
       "    <tr style=\"text-align: right;\">\n",
       "      <th></th>\n",
       "      <th>N_Pronoun_NP</th>\n",
       "      <th>POS pattern</th>\n",
       "      <th>Number</th>\n",
       "    </tr>\n",
       "  </thead>\n",
       "  <tbody>\n",
       "    <tr>\n",
       "      <td>0</td>\n",
       "      <td>Mathew</td>\n",
       "      <td>NNP</td>\n",
       "      <td>Singular</td>\n",
       "    </tr>\n",
       "  </tbody>\n",
       "</table>\n",
       "</div>"
      ],
      "text/plain": [
       "  N_Pronoun_NP POS pattern    Number\n",
       "0       Mathew         NNP  Singular"
      ]
     },
     "execution_count": 21,
     "metadata": {},
     "output_type": "execute_result"
    }
   ],
   "source": [
    "def ne_chunking(resolution_list):\n",
    "    for txt in resolution_list:\n",
    "        pos_txt=preprocess_pos_func(txt)\n",
    "        chunkLIST=[]\n",
    "        new_txt=txt\n",
    "        pos_new_txt=preprocess_pos_func(new_txt)\n",
    "\n",
    "\n",
    "        #Tokenizing into sentences\n",
    "        \n",
    "        for sent in nltk.sent_tokenize(new_txt):\n",
    "            #Tokenizing into tokens/words and assigning chunks to named entities\n",
    "                for chunk in nltk.ne_chunk(nltk.pos_tag(nltk.word_tokenize(sent))):\n",
    "                    if hasattr(chunk, 'label'):\n",
    "                        if chunk[0][1].lower()=='nnps':\n",
    "                            chunkLIST.append((' '.join(c[0] for c in chunk),  chunk[0][1],'Plural' ))\n",
    "                            ne_list.append((' '.join(c[0] for c in chunk)))\n",
    "                            noun_pronoun_np_list.append((' '.join(c[0] for c in chunk)))\n",
    "\n",
    "                        else:\n",
    "                            chunkLIST.append((' '.join(c[0] for c in chunk),  chunk[0][1],'Singular' ))\n",
    "                            ne_list.append((' '.join(c[0] for c in chunk)))\n",
    "                            noun_pronoun_np_list.append((' '.join(c[0] for c in chunk)))\n",
    "\n",
    "        ne_df=pd.DataFrame(chunkLIST, columns=['N_Pronoun_NP', 'POS pattern', 'Number'])\n",
    "    return ne_df\n",
    "ne_df=ne_chunking(anapora_resolution(txt))\n",
    "ne_df          "
   ]
  },
  {
   "cell_type": "markdown",
   "metadata": {},
   "source": [
    "# Add to noun pronoun noun phrase dataframe"
   ]
  },
  {
   "cell_type": "code",
   "execution_count": 22,
   "metadata": {},
   "outputs": [
    {
     "data": {
      "text/html": [
       "<div>\n",
       "<style scoped>\n",
       "    .dataframe tbody tr th:only-of-type {\n",
       "        vertical-align: middle;\n",
       "    }\n",
       "\n",
       "    .dataframe tbody tr th {\n",
       "        vertical-align: top;\n",
       "    }\n",
       "\n",
       "    .dataframe thead th {\n",
       "        text-align: right;\n",
       "    }\n",
       "</style>\n",
       "<table border=\"1\" class=\"dataframe\">\n",
       "  <thead>\n",
       "    <tr style=\"text-align: right;\">\n",
       "      <th></th>\n",
       "      <th>N_Pronoun_NP</th>\n",
       "      <th>POS pattern</th>\n",
       "      <th>Number</th>\n",
       "    </tr>\n",
       "  </thead>\n",
       "  <tbody>\n",
       "    <tr>\n",
       "      <td>0</td>\n",
       "      <td>He</td>\n",
       "      <td>PRP</td>\n",
       "      <td>Singular</td>\n",
       "    </tr>\n",
       "    <tr>\n",
       "      <td>0</td>\n",
       "      <td>his friends</td>\n",
       "      <td>PRP$ NNS</td>\n",
       "      <td>Plural</td>\n",
       "    </tr>\n",
       "    <tr>\n",
       "      <td>0</td>\n",
       "      <td>Mathew</td>\n",
       "      <td>NNP</td>\n",
       "      <td>Singular</td>\n",
       "    </tr>\n",
       "  </tbody>\n",
       "</table>\n",
       "</div>"
      ],
      "text/plain": [
       "  N_Pronoun_NP POS pattern    Number\n",
       "0           He         PRP  Singular\n",
       "0  his friends    PRP$ NNS    Plural\n",
       "0       Mathew         NNP  Singular"
      ]
     },
     "execution_count": 22,
     "metadata": {},
     "output_type": "execute_result"
    }
   ],
   "source": [
    "n_p_np_df=p_np_df.append(ne_df)\n",
    "n_p_np_df"
   ]
  },
  {
   "cell_type": "markdown",
   "metadata": {},
   "source": [
    "# Process to assign index and chunk noun phrases as one index"
   ]
  },
  {
   "cell_type": "markdown",
   "metadata": {},
   "source": [
    "# Remove punctuations from the primary sentence"
   ]
  },
  {
   "cell_type": "code",
   "execution_count": 23,
   "metadata": {},
   "outputs": [
    {
     "name": "stdout",
     "output_type": "stream",
     "text": [
      "Sentence without punctuations.\n",
      "\n",
      "Mathew  and his friends play together He loves to play\n",
      "\n",
      "\n",
      "Hyphenating noun-phrases as one unit\n",
      "\n",
      "Mathew  and his-friends play together He loves to play\n",
      "\n",
      "\n",
      "Splitting the sentence in terms of chunks\n",
      "\n",
      "['Mathew', 'and', 'his-friends', 'play', 'together', 'He', 'loves', 'to', 'play']\n",
      "\n",
      "\n",
      "\n",
      "De-hyphenating to obtain actual chunks\n",
      "\n",
      "['Mathew', 'and', 'his friends', 'play', 'together', 'He', 'loves', 'to', 'play']\n",
      "\n",
      "\n",
      "\n",
      "['Mathew', 'and', 'his friends', 'play', 'together', 'He', 'loves', 'to', 'play']\n"
     ]
    },
    {
     "data": {
      "text/html": [
       "<div>\n",
       "<style scoped>\n",
       "    .dataframe tbody tr th:only-of-type {\n",
       "        vertical-align: middle;\n",
       "    }\n",
       "\n",
       "    .dataframe tbody tr th {\n",
       "        vertical-align: top;\n",
       "    }\n",
       "\n",
       "    .dataframe thead th {\n",
       "        text-align: right;\n",
       "    }\n",
       "</style>\n",
       "<table border=\"1\" class=\"dataframe\">\n",
       "  <thead>\n",
       "    <tr style=\"text-align: right;\">\n",
       "      <th></th>\n",
       "      <th>N_Pronoun_NP</th>\n",
       "      <th>POS pattern</th>\n",
       "      <th>Number</th>\n",
       "      <th>Position</th>\n",
       "    </tr>\n",
       "  </thead>\n",
       "  <tbody>\n",
       "    <tr>\n",
       "      <td>0</td>\n",
       "      <td>He</td>\n",
       "      <td>PRP</td>\n",
       "      <td>Singular</td>\n",
       "      <td>5</td>\n",
       "    </tr>\n",
       "    <tr>\n",
       "      <td>1</td>\n",
       "      <td>his friends</td>\n",
       "      <td>PRP$ NNS</td>\n",
       "      <td>Plural</td>\n",
       "      <td>2</td>\n",
       "    </tr>\n",
       "    <tr>\n",
       "      <td>2</td>\n",
       "      <td>Mathew</td>\n",
       "      <td>NNP</td>\n",
       "      <td>Singular</td>\n",
       "      <td>0</td>\n",
       "    </tr>\n",
       "  </tbody>\n",
       "</table>\n",
       "</div>"
      ],
      "text/plain": [
       "  N_Pronoun_NP POS pattern    Number  Position\n",
       "0           He         PRP  Singular         5\n",
       "1  his friends    PRP$ NNS    Plural         2\n",
       "2       Mathew         NNP  Singular         0"
      ]
     },
     "execution_count": 23,
     "metadata": {},
     "output_type": "execute_result"
    }
   ],
   "source": [
    "def chunks_index_assign(txt,n_p_np_df):\n",
    "\n",
    "    chars = [',', '.', '!','?','(',')','&', '-',':', ';']\n",
    "    retxt=txt.translate({ord(k): None for k in chars})\n",
    "    print('Sentence without punctuations.\\n')\n",
    "    print(retxt+'\\n\\n')\n",
    "\n",
    "    for val in noun_pronoun_np_list:\n",
    "        retxt = retxt.replace(val,(val.replace(\" \",\"-\")));\n",
    "    print('Hyphenating noun-phrases as one unit\\n')\n",
    "    print(retxt+'\\n\\n')\n",
    "\n",
    "    retxt_pos=retxt.split()\n",
    "    print('Splitting the sentence in terms of chunks\\n')\n",
    "    print(retxt_pos)\n",
    "    print('\\n\\n')\n",
    "\n",
    "    #Replacing hyphen with \" \"\n",
    "    for i in range (len(retxt_pos)):\n",
    "        retxt_pos[i]=retxt_pos[i].replace(\"-\",\" \")\n",
    "    print('De-hyphenating to obtain actual chunks\\n')\n",
    "    print(retxt_pos)\n",
    "    print('\\n\\n')\n",
    "\n",
    "    # Assigning positions in sentences to noun pronoun and np df\n",
    "\n",
    "    indices=[]\n",
    "    for index, row in n_p_np_df.iterrows():\n",
    "        for i in range (len(retxt_pos)):\n",
    "            if row['N_Pronoun_NP']==retxt_pos[i]:\n",
    "                indices.append(i) \n",
    "\n",
    "    n_p_np_df['Position'] = indices\n",
    "\n",
    "    n_p_np_df=n_p_np_df.reset_index(drop=True)\n",
    "    return retxt_pos,n_p_np_df\n",
    "\n",
    "retxt_pos,n_p_np_df_ind=chunks_index_assign(txt,n_p_np_df)\n",
    "print(retxt_pos)\n",
    "n_p_np_df_ind"
   ]
  },
  {
   "cell_type": "markdown",
   "metadata": {},
   "source": [
    "### Assigning nearest references to the pronoun/noun phrase"
   ]
  },
  {
   "cell_type": "code",
   "execution_count": 24,
   "metadata": {
    "scrolled": true
   },
   "outputs": [
    {
     "name": "stdout",
     "output_type": "stream",
     "text": [
      "False\n",
      "False\n",
      "True\n",
      "False\n",
      "False\n",
      "True\n",
      "True\n",
      "True\n",
      "False\n"
     ]
    },
    {
     "data": {
      "text/html": [
       "<div>\n",
       "<style scoped>\n",
       "    .dataframe tbody tr th:only-of-type {\n",
       "        vertical-align: middle;\n",
       "    }\n",
       "\n",
       "    .dataframe tbody tr th {\n",
       "        vertical-align: top;\n",
       "    }\n",
       "\n",
       "    .dataframe thead th {\n",
       "        text-align: right;\n",
       "    }\n",
       "</style>\n",
       "<table border=\"1\" class=\"dataframe\">\n",
       "  <thead>\n",
       "    <tr style=\"text-align: right;\">\n",
       "      <th></th>\n",
       "      <th>N_Pronoun_NP</th>\n",
       "      <th>POS pattern</th>\n",
       "      <th>Number</th>\n",
       "      <th>Position</th>\n",
       "      <th>Nearest_Reference</th>\n",
       "    </tr>\n",
       "  </thead>\n",
       "  <tbody>\n",
       "    <tr>\n",
       "      <td>0</td>\n",
       "      <td>He</td>\n",
       "      <td>PRP</td>\n",
       "      <td>Singular</td>\n",
       "      <td>5</td>\n",
       "      <td>Mathew</td>\n",
       "    </tr>\n",
       "    <tr>\n",
       "      <td>1</td>\n",
       "      <td>his friends</td>\n",
       "      <td>PRP$ NNS</td>\n",
       "      <td>Plural</td>\n",
       "      <td>2</td>\n",
       "      <td>his friends</td>\n",
       "    </tr>\n",
       "    <tr>\n",
       "      <td>2</td>\n",
       "      <td>Mathew</td>\n",
       "      <td>NNP</td>\n",
       "      <td>Singular</td>\n",
       "      <td>0</td>\n",
       "      <td>He</td>\n",
       "    </tr>\n",
       "  </tbody>\n",
       "</table>\n",
       "</div>"
      ],
      "text/plain": [
       "  N_Pronoun_NP POS pattern    Number  Position Nearest_Reference\n",
       "0           He         PRP  Singular         5            Mathew\n",
       "1  his friends    PRP$ NNS    Plural         2       his friends\n",
       "2       Mathew         NNP  Singular         0                He"
      ]
     },
     "execution_count": 24,
     "metadata": {},
     "output_type": "execute_result"
    }
   ],
   "source": [
    "def find_nearest_reference(n_p_np_df,retxt_pos):\n",
    "    Nearest_Reference=[]\n",
    "    for index, row in n_p_np_df.iterrows():\n",
    "        min_d=len(retxt_pos)\n",
    "        min_d_ind=index\n",
    "        for index2, row2 in n_p_np_df.iterrows():\n",
    "            bool1=bool(re.match(r\"(PRP)\",row['POS pattern'])) and (bool(re.match(r\"(PRP)\",row2['POS pattern']))==False)\n",
    "            bool2= bool(re.match(r\"(PRP)\",row2['POS pattern'])) and (bool(re.match(r\"(PRP)\",row['POS pattern']))==False)\n",
    "            print(bool1|bool2)\n",
    "\n",
    "            if (index!=index2) and (bool1 | bool2):\n",
    "                    if ((abs(row['Position']-row2['Position']))<min_d) and (row['POS pattern']!= row2['POS pattern']) and (row['Number']==row2['Number']):\n",
    "                        min_d=abs(row['Position']-row['Position']) \n",
    "                        min_d_ind=index2\n",
    "        Nearest_Reference.append(n_p_np_df['N_Pronoun_NP'][min_d_ind])\n",
    "    n_p_np_df['Nearest_Reference'] = Nearest_Reference\n",
    "    return n_p_np_df\n",
    "\n",
    "ref_n_p_np_df_ind=find_nearest_reference(n_p_np_df_ind,retxt_pos)\n",
    "ref_n_p_np_df_ind"
   ]
  },
  {
   "cell_type": "code",
   "execution_count": 26,
   "metadata": {},
   "outputs": [
    {
     "data": {
      "text/plain": [
       "'Mathew and his friends play together Mathew loves to play'"
      ]
     },
     "execution_count": 26,
     "metadata": {},
     "output_type": "execute_result"
    }
   ],
   "source": [
    "# Replace sentence with references\n",
    "for i in range (len(retxt_pos)):\n",
    "       for index, row in ref_n_p_np_df_ind.iterrows():\n",
    "            if (re.match(r\"(.?)*(PRP.?)+\",row['POS pattern'])) and (retxt_pos[i]==row['N_Pronoun_NP']):\n",
    "                retxt_pos[i]=row['Nearest_Reference']\n",
    "        \n",
    "sentence=' '.join(retxt_pos)\n",
    "sentence"
   ]
  },
  {
   "cell_type": "code",
   "execution_count": 133,
   "metadata": {},
   "outputs": [],
   "source": [
    "#Nuances like our son, her difficulty are still difficult to do coreference\n",
    "#Gender classification still an issue"
   ]
  },
  {
   "cell_type": "raw",
   "metadata": {},
   "source": [
    "# References:\n",
    "1.https://cs.nyu.edu/grishman/jet/guide/PennPOS.html\n",
    "2. https://www.regextester.com/15\n",
    "3. https://en.wikipedia.org/wiki/Coreference"
   ]
  }
 ],
 "metadata": {
  "kernelspec": {
   "display_name": "Python 3",
   "language": "python",
   "name": "python3"
  },
  "language_info": {
   "codemirror_mode": {
    "name": "ipython",
    "version": 3
   },
   "file_extension": ".py",
   "mimetype": "text/x-python",
   "name": "python",
   "nbconvert_exporter": "python",
   "pygments_lexer": "ipython3",
   "version": "3.7.4"
  }
 },
 "nbformat": 4,
 "nbformat_minor": 2
}
